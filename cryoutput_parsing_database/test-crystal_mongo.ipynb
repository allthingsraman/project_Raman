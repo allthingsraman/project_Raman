{
 "cells": [
  {
   "cell_type": "code",
   "execution_count": 1,
   "id": "37d4fef3",
   "metadata": {},
   "outputs": [],
   "source": [
    "import glob\n",
    "import pandas as pd\n",
    "import numpy as np\n",
    "import json\n",
    "import pickle\n",
    "from bson.binary import Binary\n",
    "from pymongo import MongoClient\n",
    "import certifi\n",
    "from ast import literal_eval\n",
    "\n",
    "from pymatgen.core import Lattice, Structure\n",
    "from crystal_out import crystalOut\n"
   ]
  },
  {
   "cell_type": "code",
   "execution_count": null,
   "id": "6532c3da",
   "metadata": {},
   "outputs": [],
   "source": []
  },
  {
   "cell_type": "markdown",
   "id": "f049bfbf",
   "metadata": {},
   "source": [
    "# Uploading to mongodb in Orion"
   ]
  },
  {
   "cell_type": "code",
   "execution_count": 4,
   "id": "determined-slovakia",
   "metadata": {},
   "outputs": [
    {
     "data": {
      "text/plain": [
       "Database(MongoClient(host=['orion.nus.edu.sg:27017'], document_class=dict, tz_aware=False, connect=True), 'raman_ml')"
      ]
     },
     "execution_count": 4,
     "metadata": {},
     "output_type": "execute_result"
    }
   ],
   "source": [
    "mc = MongoClient(host=\"orion.nus.edu.sg\",username=\"raman_ml\",password=\"ch4ndr4s3kh4r4\")\n",
    "db = mc[\"raman_ml\"]\n",
    "db"
   ]
  },
  {
   "cell_type": "code",
   "execution_count": null,
   "id": "professional-sociology",
   "metadata": {},
   "outputs": [
    {
     "name": "stdout",
     "output_type": "stream",
     "text": [
      "Found 62 structures to be loaded into mongodb...\n",
      "Structures identified to have errors:\n",
      "popped: ../project_Raman/crystal17_output_files\\calc-Sb2O5_15_icsd1422_tzvp_PBE0\\Sb2O5_15.out\n",
      "popped: ../project_Raman/crystal17_output_files\\calc-Sb2Se3_62_icsd30973_tzvp_PBE0\\Sb2Se3_62.out\n",
      ">>>>>>> Optimized structure found.\n",
      "Doing As2O3_14.out\n",
      "Done 62dfc6755c64517df4cfc762\n",
      "Doing As2O3_14.out\n",
      "Done 62dfc6755c64517df4cfc763\n",
      ">>>>>>> Optimized structure found.\n",
      ">>>>>>> CRYSTALLOGRAPHIC CELL found.\n",
      "Doing As2O3_227.out\n",
      "Done 62dfc6765c64517df4cfc764\n",
      ">>>>>>> Optimized structure found.\n",
      "Doing As2S3_2.out\n",
      "Done 62dfc6765c64517df4cfc765\n",
      ">>>>>>> Optimized structure found.\n",
      ">>>>>>> CRYSTALLOGRAPHIC CELL found.\n",
      "Doing As2Se3_12.out\n",
      "Done 62dfc6765c64517df4cfc766\n",
      ">>>>>>> Optimized structure found.\n",
      "Doing As4S3_62.out\n",
      "Done 62dfc6765c64517df4cfc767\n",
      ">>>>>>> Optimized structure found.\n",
      "Doing As4S5_11.out\n",
      "Done 62dfc6775c64517df4cfc768\n",
      ">>>>>>> Optimized structure found.\n",
      "Doing As8S9_13.out\n",
      "Done 62dfc6775c64517df4cfc769\n",
      ">>>>>>> Optimized structure found.\n",
      "Doing AsBr3_19.out\n",
      "Done 62dfc6775c64517df4cfc76a\n",
      ">>>>>>> Optimized structure found.\n",
      "Doing AsO2_62.out\n",
      "Done 62dfc6775c64517df4cfc76b\n",
      ">>>>>>> Optimized structure found.\n",
      "Doing AsS2_4.out\n",
      "Done 62dfc6775c64517df4cfc76c\n",
      ">>>>>>> Optimized structure found.\n",
      ">>>>>>> CRYSTALLOGRAPHIC CELL found.\n",
      "Doing AsS_15.out\n",
      "Done 62dfc6785c64517df4cfc76d\n",
      ">>>>>>> Optimized structure found.\n",
      "Doing GeS2_7.out\n",
      "Done 62dfc6785c64517df4cfc76e\n",
      ">>>>>>> Optimized structure found.\n",
      ">>>>>>> CRYSTALLOGRAPHIC CELL found.\n",
      "Doing Li2S_225.out\n",
      "Done 62dfc6785c64517df4cfc76f\n",
      ">>>>>>> Optimized structure found.\n",
      ">>>>>>> CRYSTALLOGRAPHIC CELL found.\n",
      "Doing Li2S_225.out\n",
      "Done 62dfc6785c64517df4cfc770\n",
      ">>>>>>> Optimized structure found.\n",
      "Doing Li3P7_19.out\n",
      "Done 62dfc6785c64517df4cfc771\n",
      ">>>>>>> Optimized structure found.\n",
      "Doing Li3PO4_31.out\n",
      "Done 62dfc6795c64517df4cfc772\n",
      ">>>>>>> Optimized structure found.\n",
      "Doing Li3P_194.out\n",
      "Done 62dfc6795c64517df4cfc773\n",
      ">>>>>>> Optimized structure found.\n",
      "Doing Li4GeS4_62.out\n",
      "Done 62dfc6795c64517df4cfc774\n",
      ">>>>>>> Optimized structure found.\n",
      "Doing Li4P2O7_153.out\n",
      "Done 62dfc6795c64517df4cfc775\n",
      ">>>>>>> Optimized structure found.\n",
      "Doing LiP_14.out\n",
      "Done 62dfc67a5c64517df4cfc776\n",
      ">>>>>>> Optimized structure found.\n",
      "Doing Na2S5_32.out\n",
      "Done 62dfc67a5c64517df4cfc777\n",
      ">>>>>>> Optimized structure found.\n",
      "Doing Na2S5_62.out\n",
      "Done 62dfc67a5c64517df4cfc778\n",
      "Doing Na3PO4_114.out\n",
      "Done 62dfc67a5c64517df4cfc779\n",
      ">>>>>>> Optimized structure found.\n",
      "Doing Na3PS4_114.out\n",
      "Done 62dfc67b5c64517df4cfc77a\n",
      ">>>>>>> Optimized structure found.\n",
      "Doing Na3PS4_114.out\n",
      "Done 62dfc67b5c64517df4cfc77b\n",
      ">>>>>>> Optimized structure found.\n",
      "Doing Na3P_185.out\n",
      "Done 62dfc67b5c64517df4cfc77c\n",
      ">>>>>>> Optimized structure found.\n",
      "Doing NaP15_2.out\n",
      "Done 62dfc67c5c64517df4cfc77d\n",
      ">>>>>>> Optimized structure found.\n",
      "Doing NaP5_62.out\n",
      "Done 62dfc67c5c64517df4cfc77e\n",
      ">>>>>>> Optimized structure found.\n",
      "Doing NaP_19.out\n",
      "Done 62dfc67c5c64517df4cfc77f\n",
      ">>>>>>> Optimized structure found.\n",
      ">>>>>>> CRYSTALLOGRAPHIC CELL found.\n",
      "Doing NaS2_122.out\n",
      "Done 62dfc67c5c64517df4cfc780\n",
      ">>>>>>> Optimized structure found.\n",
      "Doing NaS_194.out\n",
      "Done 62dfc67c5c64517df4cfc781\n",
      ">>>>>>> Optimized structure found.\n",
      "Doing P2O3_11.out\n",
      "Done 62dfc67d5c64517df4cfc782\n",
      ">>>>>>> Optimized structure found.\n",
      "Doing P2O5_62.out\n",
      "Done 62dfc67d5c64517df4cfc783\n",
      ">>>>>>> Optimized structure found.\n",
      "Doing P2S3_11.out\n",
      "Done 62dfc67d5c64517df4cfc784\n",
      ">>>>>>> Optimized structure found.\n",
      "Doing P2S5_2.out\n",
      "Done 62dfc67e5c64517df4cfc785\n",
      ">>>>>>> Optimized structure found.\n",
      "Doing P2S7_14.out\n",
      "Done 62dfc67e5c64517df4cfc786\n",
      ">>>>>>> Optimized structure found.\n",
      "Doing P2S7_2.out\n",
      "Done 62dfc67e5c64517df4cfc787\n",
      ">>>>>>> Optimized structure found.\n",
      "Doing P2Se5_14.out\n",
      "Done 62dfc67f5c64517df4cfc788\n",
      ">>>>>>> Optimized structure found.\n",
      "Doing P4S5_11.out\n",
      "Done 62dfc67f5c64517df4cfc789\n",
      ">>>>>>> Optimized structure found.\n",
      "Doing P4S5_11.out\n",
      "Done 62dfc67f5c64517df4cfc78a\n",
      ">>>>>>> Optimized structure found.\n",
      "Doing P4S7_14.out\n",
      "Done 62dfc67f5c64517df4cfc78b\n",
      ">>>>>>> Optimized structure found.\n",
      "Doing P4S9_14.out\n",
      "Done 62dfc6805c64517df4cfc78c\n",
      ">>>>>>> Optimized structure found.\n",
      "Doing P4Se5_33.out\n",
      "Done 62dfc6805c64517df4cfc78d\n",
      ">>>>>>> Optimized structure found.\n",
      ">>>>>>> CRYSTALLOGRAPHIC CELL found.\n",
      "Doing PO2_15.out\n",
      "Done 62dfc6815c64517df4cfc78e\n",
      ">>>>>>> Optimized structure found.\n",
      ">>>>>>> CRYSTALLOGRAPHIC CELL found.\n",
      "Doing PO2_15.out\n",
      "Done 62dfc6815c64517df4cfc78f\n",
      ">>>>>>> Optimized structure found.\n",
      "Doing PSe_14.out\n",
      "Done 62dfc6815c64517df4cfc790\n",
      ">>>>>>> Optimized structure found.\n",
      ">>>>>>> CRYSTALLOGRAPHIC CELL found.\n",
      "Doing PS_15.out\n",
      "Done 62dfc6825c64517df4cfc791\n",
      ">>>>>>> Optimized structure found.\n",
      ">>>>>>> CRYSTALLOGRAPHIC CELL found.\n",
      "Doing PS_15.out\n",
      "Done 62dfc6825c64517df4cfc792\n",
      "Doing Sb2O3_19.out\n",
      "Done 62dfc6825c64517df4cfc793\n",
      ">>>>>>> Optimized structure found.\n",
      ">>>>>>> CRYSTALLOGRAPHIC CELL found.\n",
      "Doing Sb2O3_227.out\n",
      "Done 62dfc6835c64517df4cfc794\n",
      ">>>>>>> Optimized structure found.\n",
      "Doing Sb2O3_56.out\n",
      "Done 62dfc6835c64517df4cfc795\n"
     ]
    }
   ],
   "source": [
    "one_crystal_outputs = glob.glob(\"/crystal17_output_files/calc-Sb2O5_15_icsd1422_tzvp_PBE0/Sb2O5_15.out\")\n",
    "print(\"Found\", len(one_crystal_outputs), \"structures to be loaded into mongodb...\")\n",
    "\n",
    "#print(\"Structures identified to have errors:\")\n",
    "#print(\"popped:\", all_crystal_outputs.pop(52))\n",
    "#print(\"popped:\", all_crystal_outputs.pop(52))\n",
    "\n",
    "structures = db.structures\n",
    "for s in one_crystal_outputs:\n",
    "    selected_structure = crystalOut(s)\n",
    "    name = s.split(\"\\\\\")[-1]\n",
    "    print(\"Working on\", name)\n",
    "    bornChargeArrayList = []\n",
    "    for val in selected_structure.bornCharge.values():\n",
    "        bornChargeArrayList.append(val[\"Born Charge\"])\n",
    "    bornChargeArray = np.concatenate(bornChargeArrayList, dtype = \"float64\")\n",
    "\n",
    "    structure = {\"structure_name\": name,\n",
    "                \"structure\":json.dumps(selected_structure.structure.as_dict()), \n",
    "                \"spaceGroup\":selected_structure.parsed_data[\"space_group\"],\n",
    "                \"thermodynamicTerms\":json.dumps(selected_structure.thermodynamicTerms),\n",
    "                \"dielectricTensor\":Binary(pickle.dumps(selected_structure.dielectricTensor, protocol=2), subtype=128),\n",
    "                \"vibContributionsDielectric\":Binary(pickle.dumps(selected_structure.vibContributionsDielectric, protocol=2), subtype=128),\n",
    "                \"secondElectricSusceptibility\":Binary(pickle.dumps(selected_structure.secondElectricSusceptibility, protocol=2), subtype=128),\n",
    "                \"thirdElectricSusceptibility\":Binary(pickle.dumps(selected_structure.thirdElectricSusceptibility, protocol=2), subtype=128),\n",
    "                \"bornChargeArray\":Binary(pickle.dumps(bornChargeArray, protocol=2), subtype=128),\n",
    "                \"bornChargeNormalModeBasis\":Binary(pickle.dumps(selected_structure.bornChargeNormalModeBasis, protocol=2), subtype=128),\n",
    "                \"intRaman\":json.dumps(selected_structure.intRaman)}\n",
    "\n",
    "    structure_id = structures.insert_one(structure).inserted_id\n",
    "    print(\"Done\", structure_id)"
   ]
  },
  {
   "cell_type": "code",
   "execution_count": null,
   "id": "94ef0f9b",
   "metadata": {
    "collapsed": true
   },
   "outputs": [],
   "source": []
  },
  {
   "cell_type": "code",
   "execution_count": 10,
   "id": "6204e131",
   "metadata": {},
   "outputs": [
    {
     "name": "stdout",
     "output_type": "stream",
     "text": [
      "{'_id': ObjectId('62dfc6765c64517df4cfc766'), 'structure_name': 'As2Se3_12.out', 'structure': '{\"@module\": \"pymatgen.core.structure\", \"@class\": \"Structure\", \"charge\": 0, \"lattice\": {\"matrix\": [[7.31519040398197, 0.0, -0.3573098538053958], [-6.378234105044253, 3.5819185289115985, 0.35730985380539676], [0.0, 0.0, 9.56464305]], \"a\": 7.323911590000001, \"b\": 7.32391159, \"c\": 9.56464305, \"alpha\": 87.203615, \"beta\": 92.79638499999999, \"gamma\": 150.717793, \"volume\": 250.61675657099957}, \"sites\": [{\"species\": [{\"element\": \"As\", \"occu\": 1}], \"abc\": [0.3849458405645, -0.3849458405645, -0.4334961641515], \"xyz\": [5.271226807833624, -1.3788446389454325, -4.421325957683497], \"label\": \"As\", \"properties\": {}}, {\"species\": [{\"element\": \"As\", \"occu\": 1}], \"abc\": [-0.3849458405645, 0.3849458405645, 0.4334961641515], \"xyz\": [-5.271226807833624, 1.3788446389454325, 4.421325957683497], \"label\": \"As\", \"properties\": {}}, {\"species\": [{\"element\": \"As\", \"occu\": 1}], \"abc\": [-0.2050146021549, 0.2050146021549, -0.1380386498102], \"xyz\": [-2.807351977856168, 0.734345602156076, -1.1737829374906357], \"label\": \"As\", \"properties\": {}}, {\"species\": [{\"element\": \"As\", \"occu\": 1}], \"abc\": [0.2050146021549, -0.2050146021549, 0.1380386498102], \"xyz\": [2.807351977856168, -0.734345602156076, 1.1737829374906357], \"label\": \"As\", \"properties\": {}}, {\"species\": [{\"element\": \"Se\", \"occu\": 1}], \"abc\": [-0.03614388216277, 0.03614388216277, -0.2945979105964], \"xyz\": [-0.4949335218590305, 0.12946444122562328, -2.791894727627301], \"label\": \"Se\", \"properties\": {}}, {\"species\": [{\"element\": \"Se\", \"occu\": 1}], \"abc\": [0.03614388216277, -0.03614388216277, 0.2945979105964], \"xyz\": [0.4949335218590305, -0.12946444122562328, 2.791894727627301], \"label\": \"Se\", \"properties\": {}}, {\"species\": [{\"element\": \"Se\", \"occu\": 1}], \"abc\": [0.2331162760805, -0.2331162760805, -0.3307324332195], \"xyz\": [3.1921601283336423, -0.8350035086836146, -3.329927153854444], \"label\": \"Se\", \"properties\": {}}, {\"species\": [{\"element\": \"Se\", \"occu\": 1}], \"abc\": [-0.2331162760805, 0.2331162760805, 0.3307324332195], \"xyz\": [-3.1921601283336423, 0.8350035086836146, 3.329927153854444], \"label\": \"Se\", \"properties\": {}}, {\"species\": [{\"element\": \"Se\", \"occu\": 1}], \"abc\": [-0.3631087313964, 0.3631087313964, -0.03474189029834], \"xyz\": [-4.972202001944883, 1.3006258929983499, -0.072809124124459], \"label\": \"Se\", \"properties\": {}}, {\"species\": [{\"element\": \"Se\", \"occu\": 1}], \"abc\": [0.3631087313964, -0.3631087313964, 0.03474189029834], \"xyz\": [4.972202001944883, -1.3006258929983499, 0.072809124124459], \"label\": \"Se\", \"properties\": {}}]}', 'spaceGroup': 'C 2/M', 'thermodynamicTerms': '{\"EL\": -635390.9295402009, \"ZPE\": 0.25050851011, \"PV\": 0.000158495294, \"TS\": 1.03770079784, \"HEAT CAPACITY\": 2.207902560284}', 'dielectricTensor': Binary(b'\\x80\\x02cnumpy.core.multiarray\\n_reconstruct\\nq\\x00cnumpy\\nndarray\\nq\\x01K\\x00\\x85q\\x02c_codecs\\nencode\\nq\\x03X\\x01\\x00\\x00\\x00bq\\x04X\\x06\\x00\\x00\\x00latin1q\\x05\\x86q\\x06Rq\\x07\\x87q\\x08Rq\\t(K\\x01K\\x03K\\x03\\x86q\\ncnumpy\\ndtype\\nq\\x0bX\\x02\\x00\\x00\\x00f8q\\x0c\\x89\\x88\\x87q\\rRq\\x0e(K\\x03X\\x01\\x00\\x00\\x00<q\\x0fNNNJ\\xff\\xff\\xff\\xffJ\\xff\\xff\\xff\\xffK\\x00tq\\x10b\\x89h\\x03X[\\x00\\x00\\x00\\xc3\\x96\\xc2\\xad\\xc2\\x9e\\xc2\\x93\\xc3\\x9e7\\x00@\\x00\\x00\\x00\\x00\\x00\\x00\\x00\\xc2\\x80\\x1d8gDi\\xc3\\xaf\\x08\\xc3\\x80\\x00\\x00\\x00\\x00\\x00\\x00\\x00\\xc2\\x80\\x12\\xc2\\x88\\xc3\\x97\\xc3\\xb5\\x0b\\xc2\\xaaT@\\x00\\x00\\x00\\x00\\x00\\x00\\x00\\xc2\\x80\\x1d8gDi\\xc3\\xaf\\x08\\xc3\\x80\\x00\\x00\\x00\\x00\\x00\\x00\\x00\\xc2\\x80\\x10X9\\xc2\\xb4\\xc3\\x88\\x06<@q\\x11h\\x05\\x86q\\x12Rq\\x13tq\\x14b.', 128), 'vibContributionsDielectric': Binary(b'\\x80\\x02}q\\x00(K\\x04cnumpy.core.multiarray\\n_reconstruct\\nq\\x01cnumpy\\nndarray\\nq\\x02K\\x00\\x85q\\x03c_codecs\\nencode\\nq\\x04X\\x01\\x00\\x00\\x00bq\\x05X\\x06\\x00\\x00\\x00latin1q\\x06\\x86q\\x07Rq\\x08\\x87q\\tRq\\n(K\\x01K\\x03K\\x03\\x86q\\x0bcnumpy\\ndtype\\nq\\x0cX\\x02\\x00\\x00\\x00f8q\\r\\x89\\x88\\x87q\\x0eRq\\x0f(K\\x03X\\x01\\x00\\x00\\x00<q\\x10NNNJ\\xff\\xff\\xff\\xffJ\\xff\\xff\\xff\\xffK\\x00tq\\x11b\\x89h\\x04X[\\x00\\x00\\x00\\xc3\\xa6\\\\\\xc2\\x8a\\xc2\\xab\\xc3\\x8a\\xc2\\xbe\\xc3\\x8b?\\x00\\x00\\x00\\x00\\x00\\x00\\x00\\xc2\\x80;\\x19\\x1c%\\xc2\\xaf\\xc3\\x8e\\xc3\\xb8?\\x00\\x00\\x00\\x00\\x00\\x00\\x00\\xc2\\x80\\x00\\x00\\x00\\x00\\x00\\x00\\x00\\x00\\x00\\x00\\x00\\x00\\x00\\x00\\x00\\xc2\\x80;\\x19\\x1c%\\xc2\\xaf\\xc3\\x8e\\xc3\\xb8?\\x00\\x00\\x00\\x00\\x00\\x00\\x00\\xc2\\x80\\x03\\xc3\\x8f\\xc2\\xbd\\xc2\\x87K.&@q\\x12h\\x06\\x86q\\x13Rq\\x14tq\\x15bK\\x08h\\x01h\\x02K\\x00\\x85q\\x16h\\x08\\x87q\\x17Rq\\x18(K\\x01K\\x03K\\x03\\x86q\\x19h\\x0f\\x89h\\x04XQ\\x00\\x00\\x00\\x00\\x00\\x00\\x00\\x00\\x00\\x00\\x00\\x00\\x00\\x00\\x00\\x00\\x00\\x00\\xc2\\x80\\x00\\x00\\x00\\x00\\x00\\x00\\x00\\x00\\x00\\x00\\x00\\x00\\x00\\x00\\x00\\xc2\\x80}\\xc2\\xb3\\xc3\\x8d\\xc2\\x8d\\xc3\\xa9\\xc3\\xb16@\\x00\\x00\\x00\\x00\\x00\\x00\\x00\\xc2\\x80\\x00\\x00\\x00\\x00\\x00\\x00\\x00\\x00\\x00\\x00\\x00\\x00\\x00\\x00\\x00\\xc2\\x80\\x00\\x00\\x00\\x00\\x00\\x00\\x00\\x00q\\x1ah\\x06\\x86q\\x1bRq\\x1ctq\\x1dbK\\th\\x01h\\x02K\\x00\\x85q\\x1eh\\x08\\x87q\\x1fRq (K\\x01K\\x03K\\x03\\x86q!h\\x0f\\x89h\\x04XO\\x00\\x00\\x00\\x00\\x00\\x00\\x00\\x00\\x00\\x00\\x00\\x00\\x00\\x00\\x00\\x00\\x00\\x00\\xc2\\x80\\x00\\x00\\x00\\x00\\x00\\x00\\x00\\x00\\x00\\x00\\x00\\x00\\x00\\x00\\x00\\xc2\\x80w\\xc2\\xa1\\xc2\\xb9N#\\xc2\\xadK@\\x00\\x00\\x00\\x00\\x00\\x00\\x00\\xc2\\x80\\x00\\x00\\x00\\x00\\x00\\x00\\x00\\x00\\x00\\x00\\x00\\x00\\x00\\x00\\x00\\xc2\\x80\\x00\\x00\\x00\\x00\\x00\\x00\\x00\\x00q\"h\\x06\\x86q#Rq$tq%bK\\x0ch\\x01h\\x02K\\x00\\x85q&h\\x08\\x87q\\'Rq((K\\x01K\\x03K\\x03\\x86q)h\\x0f\\x89h\\x04XX\\x00\\x00\\x00\\xc2\\x89A`\\xc3\\xa5\\xc3\\x90\"\\xc3\\x9f?\\x00\\x00\\x00\\x00\\x00\\x00\\x00\\x00B`\\xc3\\xa5\\xc3\\x90\"[\\xc3\\xb8\\xc2\\xbf\\x00\\x00\\x00\\x00\\x00\\x00\\x00\\x00\\x00\\x00\\x00\\x00\\x00\\x00\\x00\\x00\\x00\\x00\\x00\\x00\\x00\\x00\\x00\\xc2\\x80B`\\xc3\\xa5\\xc3\\x90\"[\\xc3\\xb8\\xc2\\xbf\\x00\\x00\\x00\\x00\\x00\\x00\\x00\\xc2\\x80\\x05\\xc3\\x85\\xc2\\x8f1w\\r\\x13@q*h\\x06\\x86q+Rq,tq-bK\\x0fh\\x01h\\x02K\\x00\\x85q.h\\x08\\x87q/Rq0(K\\x01K\\x03K\\x03\\x86q1h\\x0f\\x89h\\x04X[\\x00\\x00\\x00+5{\\xc2\\xa0\\x15\\x18\\xc3\\xa1?\\x00\\x00\\x00\\x00\\x00\\x00\\x00\\x00\\xc2\\xb9\\xc2\\x8d\\x06\\xc3\\xb0\\x16\\xc3\\x88\\xc3\\xb7\\xc2\\xbf\\x00\\x00\\x00\\x00\\x00\\x00\\x00\\x00\\x00\\x00\\x00\\x00\\x00\\x00\\x00\\x00\\x00\\x00\\x00\\x00\\x00\\x00\\x00\\xc2\\x80\\xc2\\xb9\\xc2\\x8d\\x06\\xc3\\xb0\\x16\\xc3\\x88\\xc3\\xb7\\xc2\\xbf\\x00\\x00\\x00\\x00\\x00\\x00\\x00\\xc2\\x80^\\xc2\\x80}t\\xc3\\xaa\\xc2\\x8a\\x10@q2h\\x06\\x86q3Rq4tq5bK\\x11h\\x01h\\x02K\\x00\\x85q6h\\x08\\x87q7Rq8(K\\x01K\\x03K\\x03\\x86q9h\\x0f\\x89h\\x04X]\\x00\\x00\\x00\\x1d\\xc2\\xac\\xc3\\xbfs\\xc2\\x98/\\xc3\\x83?\\x00\\x00\\x00\\x00\\x00\\x00\\x00\\x00\\xc2\\xa85\\xc3\\x8d;N\\xc3\\x91\\xc3\\xaa\\xc2\\xbf\\x00\\x00\\x00\\x00\\x00\\x00\\x00\\x00\\x00\\x00\\x00\\x00\\x00\\x00\\x00\\x00\\x00\\x00\\x00\\x00\\x00\\x00\\x00\\xc2\\x80\\xc2\\xa85\\xc3\\x8d;N\\xc3\\x91\\xc3\\xaa\\xc2\\xbf\\x00\\x00\\x00\\x00\\x00\\x00\\x00\\xc2\\x80\\xc2\\xae\\xc2\\x9e\\xc2\\x93\\xc3\\x9e7\\xc2\\xbe\\x12@q:h\\x06\\x86q;Rq<tq=bK\\x12h\\x01h\\x02K\\x00\\x85q>h\\x08\\x87q?Rq@(K\\x01K\\x03K\\x03\\x86qAh\\x0f\\x89h\\x04XQ\\x00\\x00\\x00\\x00\\x00\\x00\\x00\\x00\\x00\\x00\\x00\\x00\\x00\\x00\\x00\\x00\\x00\\x00\\xc2\\x80\\x00\\x00\\x00\\x00\\x00\\x00\\x00\\x00\\x00\\x00\\x00\\x00\\x00\\x00\\x00\\xc2\\x80\\xc2\\xb1\\xc2\\xa7\\x1d\\xc3\\xbe\\xc2\\x9a,\\xc3\\xba?\\x00\\x00\\x00\\x00\\x00\\x00\\x00\\xc2\\x80\\x00\\x00\\x00\\x00\\x00\\x00\\x00\\x00\\x00\\x00\\x00\\x00\\x00\\x00\\x00\\xc2\\x80\\x00\\x00\\x00\\x00\\x00\\x00\\x00\\x00qBh\\x06\\x86qCRqDtqEbK\\x15h\\x01h\\x02K\\x00\\x85qFh\\x08\\x87qGRqH(K\\x01K\\x03K\\x03\\x86qIh\\x0f\\x89h\\x04XP\\x00\\x00\\x00\\x00\\x00\\x00\\x00\\x00\\x00\\x00\\x00\\x00\\x00\\x00\\x00\\x00\\x00\\x00\\xc2\\x80\\x00\\x00\\x00\\x00\\x00\\x00\\x00\\x00\\x00\\x00\\x00\\x00\\x00\\x00\\x00\\xc2\\x80\\x0b{\\xc3\\x9a\\xc3\\xa1\\xc2\\xaf\\xc3\\x89\\x05@\\x00\\x00\\x00\\x00\\x00\\x00\\x00\\xc2\\x80\\x00\\x00\\x00\\x00\\x00\\x00\\x00\\x00\\x00\\x00\\x00\\x00\\x00\\x00\\x00\\xc2\\x80\\x00\\x00\\x00\\x00\\x00\\x00\\x00\\x00qJh\\x06\\x86qKRqLtqMbK\\x18h\\x01h\\x02K\\x00\\x85qNh\\x08\\x87qORqP(K\\x01K\\x03K\\x03\\x86qQh\\x0f\\x89h\\x04X\\\\\\x00\\x00\\x00[\\xc2\\x94\\xc3\\x99 \\xc2\\x93\\xc2\\x8c\\xc3\\x92?\\x00\\x00\\x00\\x00\\x00\\x00\\x00\\x00\\xc3\\xb2\\xc3\\x8d67\\xc2\\xa6\\'\\xc3\\xaf\\xc2\\xbf\\x00\\x00\\x00\\x00\\x00\\x00\\x00\\x00\\x00\\x00\\x00\\x00\\x00\\x00\\x00\\x00\\x00\\x00\\x00\\x00\\x00\\x00\\x00\\xc2\\x80\\xc3\\xb2\\xc3\\x8d67\\xc2\\xa6\\'\\xc3\\xaf\\xc2\\xbf\\x00\\x00\\x00\\x00\\x00\\x00\\x00\\xc2\\x80\\xc2\\x99d\\xc3\\xa4,\\xc3\\xac)\\n@qRh\\x06\\x86qSRqTtqUbK\\x19h\\x01h\\x02K\\x00\\x85qVh\\x08\\x87qWRqX(K\\x01K\\x03K\\x03\\x86qYh\\x0f\\x89h\\x04XV\\x00\\x00\\x00\\x1e\\xc3\\xbe\\xc2\\x9a\\xc2\\xacQ\\x0f\\xc2\\xa1?\\x00\\x00\\x00\\x00\\x00\\x00\\x00\\x00O\\xc2\\xaf\\xc2\\x94e\\xc2\\x88c\\xc2\\x9d?\\x00\\x00\\x00\\x00\\x00\\x00\\x00\\x00\\x00\\x00\\x00\\x00\\x00\\x00\\x00\\x00\\x00\\x00\\x00\\x00\\x00\\x00\\x00\\x00O\\xc2\\xaf\\xc2\\x94e\\xc2\\x88c\\xc2\\x9d?\\x00\\x00\\x00\\x00\\x00\\x00\\x00\\x00\\xc2\\xaa}:\\x1e3P\\xc2\\x99?qZh\\x06\\x86q[Rq\\\\tq]bK\\x1ch\\x01h\\x02K\\x00\\x85q^h\\x08\\x87q_Rq`(K\\x01K\\x03K\\x03\\x86qah\\x0f\\x89h\\x04XV\\x00\\x00\\x00*t^c\\xc2\\x97\\xc2\\xa8\\xc2\\xae?\\x00\\x00\\x00\\x00\\x00\\x00\\x00\\xc2\\x80a\\x1a\\xc2\\x86\\xc2\\x8f\\xc2\\x88)q?\\x00\\x00\\x00\\x00\\x00\\x00\\x00\\xc2\\x80\\x00\\x00\\x00\\x00\\x00\\x00\\x00\\x00\\x00\\x00\\x00\\x00\\x00\\x00\\x00\\xc2\\x80a\\x1a\\xc2\\x86\\xc2\\x8f\\xc2\\x88)q?\\x00\\x00\\x00\\x00\\x00\\x00\\x00\\xc2\\x80\\x1a\\x17\\x0e\\xc2\\x84d\\x013?qbh\\x06\\x86qcRqdtqebK\\x1eh\\x01h\\x02K\\x00\\x85qfh\\x08\\x87qgRqh(K\\x01K\\x03K\\x03\\x86qih\\x0f\\x89h\\x04X]\\x00\\x00\\x00o\\rl\\xc2\\x95`q\\xc3\\x90?\\x00\\x00\\x00\\x00\\x00\\x00\\x00\\xc2\\x80\\xc2\\x9d\\xc3\\x97\\xc3\\x98%\\xc2\\xaa\\xc2\\xb7\\xc2\\xbe?\\x00\\x00\\x00\\x00\\x00\\x00\\x00\\xc2\\x80\\x00\\x00\\x00\\x00\\x00\\x00\\x00\\x00\\x00\\x00\\x00\\x00\\x00\\x00\\x00\\xc2\\x80\\xc2\\x9d\\xc3\\x97\\xc3\\x98%\\xc2\\xaa\\xc2\\xb7\\xc2\\xbe?\\x00\\x00\\x00\\x00\\x00\\x00\\x00\\xc2\\x80S\"\\xc2\\x89^F\\xc2\\xb1\\xc2\\xac?qjh\\x06\\x86qkRqltqmbu.', 128), 'secondElectricSusceptibility': Binary(b'\\x80\\x02cnumpy.core.multiarray\\n_reconstruct\\nq\\x00cnumpy\\nndarray\\nq\\x01K\\x00\\x85q\\x02c_codecs\\nencode\\nq\\x03X\\x01\\x00\\x00\\x00bq\\x04X\\x06\\x00\\x00\\x00latin1q\\x05\\x86q\\x06Rq\\x07\\x87q\\x08Rq\\t(K\\x01K\\x03K\\x03K\\x03\\x87q\\ncnumpy\\ndtype\\nq\\x0bX\\x02\\x00\\x00\\x00f8q\\x0c\\x89\\x88\\x87q\\rRq\\x0e(K\\x03X\\x01\\x00\\x00\\x00<q\\x0fNNNJ\\xff\\xff\\xff\\xffJ\\xff\\xff\\xff\\xffK\\x00tq\\x10b\\x89h\\x03X\\xfb\\x00\\x00\\x00\\x00\\x00\\x00\\x00\\x00\\x00\\x00\\x00\\x00\\x00\\x00\\x00\\x00\\x00\\x00\\x00\\x00\\x00\\x00\\x00\\x00\\x00\\x00\\x00\\x00\\x00\\x00\\x00\\x00\\x00\\x00\\x00\\xc3\\x9eh\\xc2\\x83\\x7fu\\xc3\\x9b\\x00\\xc2\\xbbb\\x06F\\x06*f0;\\x00\\x00\\x00\\x00\\x00\\x00\\x00\\x00b\\x06F\\x06*f0;\\x00\\x00\\x00\\x00\\x00\\x00\\x00\\x00\\x00\\x00\\x00\\x00\\x00\\x00\\x00\\x00\\xc3\\x9eh\\xc2\\x83\\x7fu\\xc3\\x9b\\x00\\xc2\\xbbb\\x06F\\x06*f0;\\xc3\\x9eh\\xc2\\x83\\x7fu\\xc3\\x9b\\x00\\xc2\\xbb\\xc3\\xad>\\xc3\\x81s\\xc2\\x9b\\xc2\\x83\\x07\\xc2\\xbbg\\xc3\\xb9\\t\\xc2\\xa2G2\\xc3\\x9c\\xc2\\xbab\\x06F\\x06*f0;g\\xc3\\xb9\\t\\xc2\\xa2G2\\xc3\\x9c\\xc2\\xba]\\xc2\\xa4em2\\xc2\\xb6\\x10;\\x00\\x00\\x00\\x00\\x00\\x00\\x00\\x00b\\x06F\\x06*f0;\\x00\\x00\\x00\\x00\\x00\\x00\\x00\\x00b\\x06F\\x06*f0;g\\xc3\\xb9\\t\\xc2\\xa2G2\\xc3\\x9c\\xc2\\xba]\\xc2\\xa4em2\\xc2\\xb6\\x10;\\x00\\x00\\x00\\x00\\x00\\x00\\x00\\x00]\\xc2\\xa4em2\\xc2\\xb6\\x10;\\x00\\x00\\x00\\x00\\x00\\x00\\x00\\x00q\\x11h\\x05\\x86q\\x12Rq\\x13tq\\x14b.', 128), 'thirdElectricSusceptibility': Binary(b'\\x80\\x02cnumpy.core.multiarray\\n_reconstruct\\nq\\x00cnumpy\\nndarray\\nq\\x01K\\x00\\x85q\\x02c_codecs\\nencode\\nq\\x03X\\x01\\x00\\x00\\x00bq\\x04X\\x06\\x00\\x00\\x00latin1q\\x05\\x86q\\x06Rq\\x07\\x87q\\x08Rq\\t(K\\x01(K\\x03K\\x03K\\x03K\\x03tq\\ncnumpy\\ndtype\\nq\\x0bX\\x02\\x00\\x00\\x00f8q\\x0c\\x89\\x88\\x87q\\rRq\\x0e(K\\x03X\\x01\\x00\\x00\\x00<q\\x0fNNNJ\\xff\\xff\\xff\\xffJ\\xff\\xff\\xff\\xffK\\x00tq\\x10b\\x89h\\x03X1\\x03\\x00\\x00\\x00\\x00\\x00\\x00\\xc2\\x80\\xc2\\x8f\\xc3\\x9c@c(\\x13\\xc3\\xbfn\\xc2\\x9fw=3333\\xc2\\xb3\\x03\\xc2\\xba\\xc3\\x80c(\\x13\\xc3\\xbfn\\xc2\\x9fw=\\x00\\x00\\x00\\x00\\x00d\\xc3\\x86@}ek\\xc3\\xb1)\\xc3\\xa2r=3333\\xc2\\xb3\\x03\\xc2\\xba\\xc3\\x80}ek\\xc3\\xb1)\\xc3\\xa2r=\\x00\\x00\\x00\\x00@\\xc2\\x80\\xc3\\x95@c(\\x13\\xc3\\xbfn\\xc2\\x9fw=\\x00\\x00\\x00\\x00\\x00d\\xc3\\x86@}ek\\xc3\\xb1)\\xc3\\xa2r=\\x00\\x00\\x00\\x00\\x00d\\xc3\\x86@\\x0b\\xc3\\xbb\\x17\\x04\\xc3\\xadJ\\xc2\\x91=\\x00\\x00\\x00\\x00\\x00\\xc2\\xac\\xc3\\x81@}ek\\xc3\\xb1)\\xc3\\xa2r=\\x00\\x00\\x00\\x00\\x00\\xc2\\xac\\xc3\\x81@mj\\xc2\\xab{\\x17\\xc3\\x91{=3333\\xc2\\xb3\\x03\\xc2\\xba\\xc3\\x80}ek\\xc3\\xb1)\\xc3\\xa2r=\\x00\\x00\\x00\\x00@\\xc2\\x80\\xc3\\x95@}ek\\xc3\\xb1)\\xc3\\xa2r=\\x00\\x00\\x00\\x00\\x00\\xc2\\xac\\xc3\\x81@mj\\xc2\\xab{\\x17\\xc3\\x91{=\\x00\\x00\\x00\\x00@\\xc2\\x80\\xc3\\x95@mj\\xc2\\xab{\\x17\\xc3\\x91{=33333\\x10\\xc2\\xab@c(\\x13\\xc3\\xbfn\\xc2\\x9fw=\\x00\\x00\\x00\\x00\\x00d\\xc3\\x86@}ek\\xc3\\xb1)\\xc3\\xa2r=\\x00\\x00\\x00\\x00\\x00d\\xc3\\x86@\\x0b\\xc3\\xbb\\x17\\x04\\xc3\\xadJ\\xc2\\x91=\\x00\\x00\\x00\\x00\\x00\\xc2\\xac\\xc3\\x81@}ek\\xc3\\xb1)\\xc3\\xa2r=\\x00\\x00\\x00\\x00\\x00\\xc2\\xac\\xc3\\x81@mj\\xc2\\xab{\\x17\\xc3\\x91{=\\x00\\x00\\x00\\x00\\x00d\\xc3\\x86@\\x0b\\xc3\\xbb\\x17\\x04\\xc3\\xadJ\\xc2\\x91=\\x00\\x00\\x00\\x00\\x00\\xc2\\xac\\xc3\\x81@\\x0b\\xc3\\xbb\\x17\\x04\\xc3\\xadJ\\xc2\\x91=\\x00\\x00\\x00\\x00\\xc3\\x90\\xc3\\xb2\\x04A\\tA\\xc2\\xa9\\xc3\\xb3\\xc3\\x96X\\xc2\\xb7=\\x00\\x00\\x00\\x00\\x00\\xc2\\xac\\xc3\\x81@\\tA\\xc2\\xa9\\xc3\\xb3\\xc3\\x96X\\xc2\\xb7=\\x00\\x00\\x00\\x000\\xc2\\xad\\xc3\\xb7@}ek\\xc3\\xb1)\\xc3\\xa2r=\\x00\\x00\\x00\\x00\\x00\\xc2\\xac\\xc3\\x81@mj\\xc2\\xab{\\x17\\xc3\\x91{=\\x00\\x00\\x00\\x00\\x00\\xc2\\xac\\xc3\\x81@\\tA\\xc2\\xa9\\xc3\\xb3\\xc3\\x96X\\xc2\\xb7=\\x00\\x00\\x00\\x000\\xc2\\xad\\xc3\\xb7@mj\\xc2\\xab{\\x17\\xc3\\x91{=\\x00\\x00\\x00\\x000\\xc2\\xad\\xc3\\xb7@;vs\\xc3\\x82\\x08B\\xc2\\xa3=3333\\xc2\\xb3\\x03\\xc2\\xba\\xc3\\x80}ek\\xc3\\xb1)\\xc3\\xa2r=\\x00\\x00\\x00\\x00@\\xc2\\x80\\xc3\\x95@}ek\\xc3\\xb1)\\xc3\\xa2r=\\x00\\x00\\x00\\x00\\x00\\xc2\\xac\\xc3\\x81@mj\\xc2\\xab{\\x17\\xc3\\x91{=\\x00\\x00\\x00\\x00@\\xc2\\x80\\xc3\\x95@mj\\xc2\\xab{\\x17\\xc3\\x91{=33333\\x10\\xc2\\xab@}ek\\xc3\\xb1)\\xc3\\xa2r=\\x00\\x00\\x00\\x00\\x00\\xc2\\xac\\xc3\\x81@mj\\xc2\\xab{\\x17\\xc3\\x91{=\\x00\\x00\\x00\\x00\\x00\\xc2\\xac\\xc3\\x81@\\tA\\xc2\\xa9\\xc3\\xb3\\xc3\\x96X\\xc2\\xb7=\\x00\\x00\\x00\\x000\\xc2\\xad\\xc3\\xb7@mj\\xc2\\xab{\\x17\\xc3\\x91{=\\x00\\x00\\x00\\x000\\xc2\\xad\\xc3\\xb7@;vs\\xc3\\x82\\x08B\\xc2\\xa3=\\x00\\x00\\x00\\x00@\\xc2\\x80\\xc3\\x95@mj\\xc2\\xab{\\x17\\xc3\\x91{=33333\\x10\\xc2\\xab@mj\\xc2\\xab{\\x17\\xc3\\x91{=\\x00\\x00\\x00\\x000\\xc2\\xad\\xc3\\xb7@;vs\\xc3\\x82\\x08B\\xc2\\xa3=33333\\x10\\xc2\\xab@;vs\\xc3\\x82\\x08B\\xc2\\xa3=\\x00\\x00\\x00\\x00\\xc3\\x80\\x02\\xc3\\xbf@q\\x11h\\x05\\x86q\\x12Rq\\x13tq\\x14b.', 128), 'bornChargeArray': Binary(b\"\\x80\\x02cnumpy.core.multiarray\\n_reconstruct\\nq\\x00cnumpy\\nndarray\\nq\\x01K\\x00\\x85q\\x02c_codecs\\nencode\\nq\\x03X\\x01\\x00\\x00\\x00bq\\x04X\\x06\\x00\\x00\\x00latin1q\\x05\\x86q\\x06Rq\\x07\\x87q\\x08Rq\\t(K\\x01K\\x1eK\\x03\\x86q\\ncnumpy\\ndtype\\nq\\x0bX\\x02\\x00\\x00\\x00f8q\\x0c\\x89\\x88\\x87q\\rRq\\x0e(K\\x03X\\x01\\x00\\x00\\x00<q\\x0fNNNJ\\xff\\xff\\xff\\xffJ\\xff\\xff\\xff\\xffK\\x00tq\\x10b\\x89h\\x03XS\\x04\\x00\\x00j\\xc2\\xbct\\xc2\\x93\\x18\\x04\\xc3\\xb8?O\\xc3\\xb78Q\\xc2\\xb5K\\xc2\\xad\\xc2\\xbc\\xc3\\xbe\\xc3\\x94x\\xc3\\xa9&1\\xc3\\x96\\xc2\\xbfO\\xc3\\xb78Q\\xc2\\xb5K\\xc2\\xad\\xc2\\xbc\\x1e\\x16jM\\xc3\\xb3\\xc2\\x8e\\n@\\xc2\\xa8fK\\x1b\\xc2\\xb6\\x17\\xc2\\xb0\\xc2\\xbc:#J{\\xc2\\x83/\\xc2\\xbc?\\xc2\\xa8fK\\x1b\\xc2\\xb6\\x17\\xc2\\xb0\\xc2\\xbc\\xc3\\xb0\\xc2\\xa7\\xc3\\x86K7\\xc2\\x89\\x08@j\\xc2\\xbct\\xc2\\x93\\x18\\x04\\xc3\\xb8?O\\xc3\\xb78Q\\xc2\\xb5K\\xc2\\xad\\xc2\\xbc\\xc3\\xbe\\xc3\\x94x\\xc3\\xa9&1\\xc3\\x96\\xc2\\xbfO\\xc3\\xb78Q\\xc2\\xb5K\\xc2\\xad\\xc2\\xbc\\x1e\\x16jM\\xc3\\xb3\\xc2\\x8e\\n@\\xc2\\xa8fK\\x1b\\xc2\\xb6\\x17\\xc2\\xb0\\xc2\\xbc:#J{\\xc2\\x83/\\xc2\\xbc?\\xc2\\xa8fK\\x1b\\xc2\\xb6\\x17\\xc2\\xb0\\xc2\\xbc\\xc3\\xb0\\xc2\\xa7\\xc3\\x86K7\\xc2\\x89\\x08@\\xc3\\x88\\x07=\\xc2\\x9bU\\xc2\\x9f\\xc3\\xbb?\\xc2\\xb3\\xc2\\xb1\\xc3\\x81\\xc2\\x95\\xc3\\x94b\\xc3\\x81\\xc2\\xbc\\xc3\\x99\\xc3\\x8e\\xc3\\xb7S\\xc3\\xa3\\xc2\\xa5\\xc3\\xb1\\xc2\\xbf\\xc2\\xb3\\xc2\\xb1\\xc3\\x81\\xc2\\x95\\xc3\\x94b\\xc3\\x81\\xc2\\xbcgDio\\xc3\\xb0\\xc2\\x85\\x1f@\\xc3\\x83}\\xc3\\xa4\\xc2\\x84\\xc3\\xb4\\x19\\xc3\\x83\\xc2\\xbc\\xc3\\x83d\\xc2\\xaa`TR\\xc3\\xbf\\xc2\\xbf\\xc3\\x83}\\xc3\\xa4\\xc2\\x84\\xc3\\xb4\\x19\\xc3\\x83\\xc2\\xbc1\\xc2\\x99*\\x18\\xc2\\x95T\\x16@\\xc3\\x88\\x07=\\xc2\\x9bU\\xc2\\x9f\\xc3\\xbb?\\xc2\\xb3\\xc2\\xb1\\xc3\\x81\\xc2\\x95\\xc3\\x94b\\xc3\\x81\\xc2\\xbc\\xc3\\x99\\xc3\\x8e\\xc3\\xb7S\\xc3\\xa3\\xc2\\xa5\\xc3\\xb1\\xc2\\xbf\\xc2\\xb3\\xc2\\xb1\\xc3\\x81\\xc2\\x95\\xc3\\x94b\\xc3\\x81\\xc2\\xbcgDio\\xc3\\xb0\\xc2\\x85\\x1f@\\xc3\\x83}\\xc3\\xa4\\xc2\\x84\\xc3\\xb4\\x19\\xc3\\x83\\xc2\\xbc\\xc3\\x83d\\xc2\\xaa`TR\\xc3\\xbf\\xc2\\xbf\\xc3\\x83}\\xc3\\xa4\\xc2\\x84\\xc3\\xb4\\x19\\xc3\\x83\\xc2\\xbc1\\xc2\\x99*\\x18\\xc2\\x95T\\x16@\\xc2\\xba\\xc3\\x9a\\xc2\\x8a\\xc3\\xbde\\xc3\\xb7\\xc3\\xb2\\xc2\\xbf\\xc2\\x8a\\x022t\\xc2\\x91B\\xc2\\xa6<W[\\xc2\\xb1\\xc2\\xbf\\xc3\\xac\\xc2\\x9e\\xc3\\xa3?\\xc2\\x8a\\x022t\\xc2\\x91B\\xc2\\xa6<\\xc3\\xa7\\x1d\\xc2\\xa7\\xc3\\xa8H.\\x04\\xc3\\x80Q]-/\\xc3\\x93t\\xc2\\xa8<\\xc3\\xb4\\xc3\\xbd\\xc3\\x94x\\xc3\\xa9&\\xc3\\xb2?Q]-/\\xc3\\x93t\\xc2\\xa8<k\\xc2\\x9aw\\xc2\\x9c\\xc2\\xa2#\\xc3\\xbe\\xc2\\xbf\\xc2\\xba\\xc3\\x9a\\xc2\\x8a\\xc3\\xbde\\xc3\\xb7\\xc3\\xb2\\xc2\\xbf\\xc2\\x8a\\x022t\\xc2\\x91B\\xc2\\xa6<W[\\xc2\\xb1\\xc2\\xbf\\xc3\\xac\\xc2\\x9e\\xc3\\xa3?\\xc2\\x8a\\x022t\\xc2\\x91B\\xc2\\xa6<\\xc3\\xa7\\x1d\\xc2\\xa7\\xc3\\xa8H.\\x04\\xc3\\x80Q]-/\\xc3\\x93t\\xc2\\xa8<\\xc3\\xb4\\xc3\\xbd\\xc3\\x94x\\xc3\\xa9&\\xc3\\xb2?Q]-/\\xc3\\x93t\\xc2\\xa8<k\\xc2\\x9aw\\xc2\\x9c\\xc2\\xa2#\\xc3\\xbe\\xc2\\xbfX\\xc2\\xadL\\xc3\\xb8\\xc2\\xa5~\\xc3\\xac\\xc2\\xbf\\xc2\\xba\\x0e\\xc3\\x93\\xc3\\x85'\\xc2\\xb3\\xc2\\xb3<\\xc3\\xb86\\xc3\\xbd\\xc3\\x99\\xc2\\x8f\\x14\\xc3\\x93?\\xc2\\xba\\x0e\\xc3\\x93\\xc3\\x85'\\xc2\\xb3\\xc2\\xb3<@\\xc2\\xa4\\xc3\\x9f\\xc2\\xbe\\x0e\\xc3\\x9c\\x11\\xc3\\x80\\xc2\\x94\\tp8\\xc3\\x99\\xc2\\xa4\\xc2\\xb5<k\\xc3\\xb1)\\x00\\xc3\\x863\\xc3\\x96\\xc2\\xbf\\xc2\\x94\\tp8\\xc3\\x99\\xc2\\xa4\\xc2\\xb5<\\xc2\\x91\\xc3\\xad|?5\\xc3\\x9e\\x0e\\xc3\\x80X\\xc2\\xadL\\xc3\\xb8\\xc2\\xa5~\\xc3\\xac\\xc2\\xbf\\xc2\\xba\\x0e\\xc3\\x93\\xc3\\x85'\\xc2\\xb3\\xc2\\xb3<\\xc3\\xb86\\xc3\\xbd\\xc3\\x99\\xc2\\x8f\\x14\\xc3\\x93?\\xc3\\x9f'\\x15\\xc3\\xbfV\\xc2\\xb3\\xc2\\xb3<@\\xc2\\xa4\\xc3\\x9f\\xc2\\xbe\\x0e\\xc3\\x9c\\x11\\xc3\\x80\\xc2\\x94\\tp8\\xc3\\x99\\xc2\\xa4\\xc2\\xb5<k\\xc3\\xb1)\\x00\\xc3\\x863\\xc3\\x96\\xc2\\xbf\\xc2\\x94\\tp8\\xc3\\x99\\xc2\\xa4\\xc2\\xb5<\\xc2\\x91\\xc3\\xad|?5\\xc3\\x9e\\x0e\\xc3\\x80\\x06\\xc2\\x81\\xc2\\x95C\\xc2\\x8bl\\xc3\\xb2\\xc2\\xbf\\xc3\\xaa\\xc2\\xb5\\xc3\\xb1\\x1a\\xc3\\xa4\\xc2\\x96\\xc2\\xb2<\\xc2\\x97\\xc3\\xbf\\xc2\\x90~\\xc3\\xbb:\\xc3\\xa1?\\xc3\\xaa\\xc2\\xb5\\xc3\\xb1\\x1a\\xc3\\xa4\\xc2\\x96\\xc2\\xb2<C\\x1c\\xc3\\xab\\xc3\\xa26\\xc3\\x9a\\x10\\xc3\\x80\\xc3\\xb1\\xc2\\xa9\\rU\\\\l\\xc2\\xb4<\\xc3\\xb6(\\\\\\xc2\\x8f\\xc3\\x82\\xc3\\xb5\\xc3\\xb0?\\xc3\\xb1\\xc2\\xa9\\rU\\\\l\\xc2\\xb4<RI\\xc2\\x9d\\xc2\\x80&B\\x07\\xc3\\x80\\x06\\xc2\\x81\\xc2\\x95C\\xc2\\x8bl\\xc3\\xb2\\xc2\\xbf\\xc3\\xaa\\xc2\\xb5\\xc3\\xb1\\x1a\\xc3\\xa4\\xc2\\x96\\xc2\\xb2<\\xc2\\x97\\xc3\\xbf\\xc2\\x90~\\xc3\\xbb:\\xc3\\xa1?\\xc3\\xaa\\xc2\\xb5\\xc3\\xb1\\x1a\\xc3\\xa4\\xc2\\x96\\xc2\\xb2<C\\x1c\\xc3\\xab\\xc3\\xa26\\xc3\\x9a\\x10\\xc3\\x80\\xc3\\xb1\\xc2\\xa9\\rU\\\\l\\xc2\\xb4<\\xc3\\xb6(\\\\\\xc2\\x8f\\xc3\\x82\\xc3\\xb5\\xc3\\xb0?\\xc3\\xb1\\xc2\\xa9\\rU\\\\l\\xc2\\xb4<RI\\xc2\\x9d\\xc2\\x80&B\\x07\\xc3\\x80q\\x11h\\x05\\x86q\\x12Rq\\x13tq\\x14b.\", 128), 'bornChargeNormalModeBasis': Binary(b'\\x80\\x02cnumpy.core.multiarray\\n_reconstruct\\nq\\x00cnumpy\\nndarray\\nq\\x01K\\x00\\x85q\\x02c_codecs\\nencode\\nq\\x03X\\x01\\x00\\x00\\x00bq\\x04X\\x06\\x00\\x00\\x00latin1q\\x05\\x86q\\x06Rq\\x07\\x87q\\x08Rq\\t(K\\x01K\\x1eK\\x03\\x86q\\ncnumpy\\ndtype\\nq\\x0bX\\x02\\x00\\x00\\x00f8q\\x0c\\x89\\x88\\x87q\\rRq\\x0e(K\\x03X\\x01\\x00\\x00\\x00<q\\x0fNNNJ\\xff\\xff\\xff\\xffJ\\xff\\xff\\xff\\xffK\\x00tq\\x10b\\x89h\\x03X\\xe3\\x03\\x00\\x00\\xc3\\x8c\\xc2\\xb0\\xc3\\xbc\\xc3\\xab\\xc2\\xb0\\xc3\\xbf\\x10\\xc2\\xbe#~r\\xc3\\xa9\\xc3\\x8e\\xc2\\xa6\\xc3\\xa6:\\xc2\\xba\\xc3\\x97W\\xc2\\x80\\xc2\\x90\\xc3\\x9f^>\\xc3\\x96\\xc2\\x84\\xc3\\xb9 \\xc2\\x82\\xc2\\x81$>\\x0f=\\xc3\\x84\\xc3\\xb58\\xc3\\xaf\\xc3\\xb1\\xc2\\xba\\xc3\\x89e\\xc3\\x8f8\\xc3\\x96\\xc3\\x8el>\\xc3\\xb3m\\x7f\\xc3\\xa6z\\xc3\\xbc%;\\xc3\\x98\\xc2\\x94T\\xc3\\x86\\xc3\\x83\\xc3\\xae\\xc2\\x83\\xc2\\xbe0>\\xc2\\xb3$!((;\\xc2\\xabf\\xc2\\x8c\\xc3\\x85%}P?P\\xc3\\xb6hm\\xc3\\xa0\\xc2\\xb1\\r\\xc2\\xbc3\\xc3\\x80\\x05\\xc3\\x99\\xc2\\xb2|}?\\x00\\x00\\x00\\x00\\x00\\x00\\x00\\x00\\xc2\\x95d3\\xc2\\x9a\\xc2\\xb8\\xc3\\xac\\xc3\\x95:\\xc3\\x81\\xc2\\x8b^\\xc3\\xbe\\xc3\\x94\\xc3\\xbb\\x17<\\xc3\\x81\\xc2\\x8b^\\xc3\\xbe\\xc3\\x94\\xc3\\xbb\\xc3\\xa7;\\xc2\\x90\\xc2\\x80mB\\xc2\\x8f\\x15\\xc3\\x9c:\\xc3\\x81\\xc2\\x8b^\\xc3\\xbe\\xc3\\x94\\xc3\\xbb\\x07\\xc2\\xbc\\x00\\x00\\x00\\x00\\x00\\x00\\x00\\x00\\x00\\x00\\x00\\x00\\x00\\x00\\x00\\x00\\x00\\x00\\x00\\x00\\x00\\x00\\x00\\x00\\xc2\\x82\\xc3\\xb4\\xc2\\x9f\\xc2\\xa0I\\x043<k\\xc3\\xb2\\xc2\\x94\\xc3\\x95t=\\xc2\\x91\\xc2\\xbf\\xc3\\xa2\\xc2\\xa7\\x1fb\\xc2\\x8d\\xc3\\xa44<\\xc2\\x81\\xc2\\x9b\\xc2\\xb6\\xc2\\xa2k>B<8\\xc3\\x970C\\xc3\\xa3\\xc2\\x89\\xc2\\xa0\\xc2\\xbf\\xc2\\xb9\\xc3\\x9fkY\\x16\\x0bD<\\x00\\x00\\x00\\x00\\x00\\x00\\x00\\x005\\xc3\\xaa{\\xc2\\xa4\\xc3\\xa3I\\xc3\\xa2\\xc2\\xba\\x00\\x00\\x00\\x00\\x00\\x00\\x00\\x00\\x00\\x00\\x00\\x00\\x00\\x00\\x00\\x00\\x00\\x00\\x00\\x00\\x00\\x00\\x00\\x00\\x00\\x00\\x00\\x00\\x00\\x00\\x00\\x00\\xc3\\xba\\xc3\\xa9\\xc3\\xa4\\xc2\\xb1\\x0b\\xc2\\xabm?\\x05i\\xc3\\xb9\\xc3\\xaf\\xc2\\xaf\\xc2\\xa0\\x1d<;\\xc2\\xa9/K;5\\xc2\\x87\\xc2\\xbf\\x00\\x00\\x00\\x00\\x00\\x00\\x00\\x00\\x00\\x00\\x00\\x00\\x00\\x00\\x00\\x00\\x00\\x00\\x00\\x00\\x00\\x00\\x00\\x00\\xc2\\xa0\\x11`<\\xc2\\xb5|\\x03\\xc2\\xbcN+\\x17\\xc2\\x97{\\xc3\\x92\\xc3\\xa6\\xc2\\xba\\xc3\\x81\\xc2\\x8b^\\xc3\\xbe\\xc3\\x94\\xc3\\xbb\\x07\\xc2\\xbc\"\\x00\\xc2\\x93\\xc2\\xaf_\\x0bu?\\xc3\\x90\\xc3\\x80U2S\\xc2\\xaa%<N|\\xc2\\xb5\\xc2\\xa38G\\xc2\\x8d\\xc2\\xbf\\xc3\\x81\\xc2\\x8b^\\xc3\\xbe\\xc3\\x94\\xc3\\xbb\\xc3\\xa7;\\xc3\\xaez\\xc2\\xa9\\xc2\\xb9to\\xc2\\xbe:\\xc3\\x81\\xc2\\x8b^\\xc3\\xbe\\xc3\\x94\\xc3\\xbb\\x17\\xc2\\xbc\\xc2\\x9a\\xc2\\xae\\xc3\\x8c\\x00\\xc2\\xbc\\xc2\\xaah\\xc2\\xbf\\xc3\\x9c\\x0c\\rU\\xc2\\x9b\\xc3\\x814\\xc2\\xbck\\xc3\\xb2\\xc2\\x94\\xc3\\x95t=\\xc2\\x91?\"\\x03\\xc3\\xae\\xc2\\x9bb\\xc3\\xb8&<\\xc2\\x9a\\xc3\\x8f\\xc2\\xb9\\xc3\\x9b\\xc3\\xb5\\xc3\\x92\\xc2\\x84\\xc2\\xbf\\xc3\\x87\\xc2\\x83<<\\xc2\\x93<)<\\x00\\x00\\x00\\x00\\x00\\x00\\x00\\x00\\x00\\x00\\x00\\x00\\x00\\x00\\x00\\x00\\x00\\x00\\x00\\x00\\x00\\x00\\x00\\x00\\x00\\x00\\x00\\x00\\x00\\x00\\x00\\x00\\xc3\\xbf(\\x1a.\\x0b\\x02\\xc3\\xab\\xc2\\xba\\xc3\\x94\\xc3\\x8b\\x11,\\xc3\\xad\\xc3\\xbb\\'<H\\xc3\\x8e\\x11\\xc2\\xaa,\\xc2\\xb11\\xc2\\xbc\\x05l\\x07#\\xc3\\xb6\\t\\xc2\\x90?\\xc3\\x84G\\xc3\\x99\"\\xc3\\xb5o3\\xc2\\xbc\\x00\\x00\\x00\\x00\\x00\\x00\\x00\\x00\\x00\\x00\\x00\\x00\\x00\\x00\\x00\\x00\\x00\\x00\\x00\\x00\\x00\\x00\\x00\\x00jT\\xc3\\xba\\xc3\\xbf\\xc3\\xb4<\\x11<R\\xc2\\xaf\\xc2\\x90\\x0f\\xc2\\x82e\\xc3\\x90\\xc2\\xba\\x00\\x00\\x00\\x00\\x00\\x00\\x00\\x00w\\xc3\\x8f\\xc3\\x8br#vw?\\xc2\\xae{\\xc2\\xb1\\x14s\\xc3\\xb65<\\xc3\\xae&\\xc3\\xb8\\xc2\\xa6\\xc3\\xa9\\xc2\\xb3\\xc2\\x93\\xc2\\xbf\\xc3\\xb7\\x0c\\xc2\\x97\\x0bK\\xc3\\xb2b?S\\xc3\\x88\\x18\\xc2\\x8a\\xc2\\xbb\\xc3\\x85\\xc3\\xa7;\\x0e\\xc3\\xb4P\\xc3\\x9b\\xc2\\x86Q`?\\x02\\xc3\\x80-A\\n}\\x00\\xc2\\xbczlf\\xc2\\x85\\x1b\\xc2\\x9f\\xc3\\xba\\xc2\\xba\\x00\\x00\\x00\\x00\\x00\\x00\\x00\\x00I\\xc2\\xba\\xc2\\x92^Z\\xc3\\xbc\\x14<\\xc2\\xb3\\xc3\\x8c\\xc2\\x96\\\\4S\\xc3\\xa3:\\x00\\x00\\x00\\x00\\x00\\x00\\x00\\x00#\\x15!\\xc3\\x90\\xc3\\xb4ml\\xc2\\xbf\\xc3\\xb03\\xc3\\xad\"\\xc2\\xaf\\x18;<m,\\xc2\\xb4\\xc2\\xb5\\xc2\\xb6\\xc3\\x97/\\xc2\\xbf_\\xc3\\x9d\\xc2\\x90\\xc3\\xb9\\x7f\\xc3\\xbb\\n\\xc2\\xbc\\xc3\\xab\\xc3\\xae\\xc3\\xaai\\x01\\n\\x01;\\x00\\x00\\x00\\x00\\x00\\x00\\x00\\x00\\xc3\\xa3\\xc2\\xb0\\xc2\\x8f\\xc2\\xa9\\x16l~?\\xc3\\xab#\\x0c\\xc3\\x83\\xc2\\x95\\xc3\\x9aJ\\xc2\\xbc\\x14\\xc2\\x88\\xc3\\xa8!djl?q\\x11h\\x05\\x86q\\x12Rq\\x13tq\\x14b.', 128), 'intRaman': '{\"41.9177\": 1000.0, \"51.7794\": 438.63, \"58.2872\": 654.6, \"83.7011\": 193.13, \"90.3528\": 25.84, \"102.8831\": 424.36, \"126.6522\": 148.91, \"141.0239\": 33.49, \"157.7146\": 79.18, \"167.8333\": 300.75, \"182.6889\": 956.77, \"184.05\": 128.97, \"242.9757\": 383.72, \"254.5529\": 78.38, \"270.2161\": 48.56}'}\n"
     ]
    }
   ],
   "source": [
    "# list orion mongo\n",
    "from pymongo import MongoClient\n",
    "\n",
    "mc = MongoClient(host=\"orion.nus.edu.sg\",username=\"raman_ml\",password=\"ch4ndr4s3kh4r4\")\n",
    "db = mc[\"raman_ml\"]\n",
    "structures = db.structures\n",
    "cursor = structures.find({\"structure_name\":\"As2Se3_12.out\"})\n",
    "for p in cursor:\n",
    "    print(p)"
   ]
  },
  {
   "cell_type": "code",
   "execution_count": null,
   "id": "4c1424cd",
   "metadata": {},
   "outputs": [],
   "source": []
  },
  {
   "cell_type": "markdown",
   "id": "4f81414c",
   "metadata": {},
   "source": [
    "# Reading"
   ]
  },
  {
   "cell_type": "code",
   "execution_count": 11,
   "id": "20bd6378",
   "metadata": {},
   "outputs": [],
   "source": [
    "def load_structure_from_mongo(structure_name):\n",
    "    mc = MongoClient(host=\"orion.nus.edu.sg\",username=\"raman_ml\",password=\"ch4ndr4s3kh4r4\")\n",
    "    db = mc[\"raman_ml\"]\n",
    "    structures = db.structures\n",
    "    structure_name_out = structure_name + \".out\"\n",
    "    query = structures.find_one({\"structure_name\":structure_name_out})\n",
    "\n",
    "    structure = Structure.from_dict(json.loads(query[\"structure\"]))\n",
    "    spaceGroup = query[\"spaceGroup\"]\n",
    "    thermodynamicTerms = json.loads(query[\"thermodynamicTerms\"])\n",
    "    intRaman = json.loads(query[\"intRaman\"])\n",
    "\n",
    "    dielectricTensor = pickle.loads(query[\"dielectricTensor\"])\n",
    "    vibContributionsDielectric = pickle.loads(query[\"vibContributionsDielectric\"])\n",
    "    secondElectricSusceptibility = pickle.loads(query[\"secondElectricSusceptibility\"])\n",
    "    thirdElectricSusceptibility = pickle.loads(query[\"thirdElectricSusceptibility\"])\n",
    "    bornChargeArray = pickle.loads(query[\"bornChargeArray\"])\n",
    "    bornChargeNormalModeBasis = pickle.loads(query[\"bornChargeNormalModeBasis\"])\n",
    "\n",
    "    return structure, spaceGroup, thermodynamicTerms, intRaman, dielectricTensor, vibContributionsDielectric, secondElectricSusceptibility, thirdElectricSusceptibility, bornChargeArray, bornChargeNormalModeBasis\n",
    "\n"
   ]
  },
  {
   "cell_type": "code",
   "execution_count": 16,
   "id": "0a3aec5d",
   "metadata": {},
   "outputs": [
    {
     "name": "stdout",
     "output_type": "stream",
     "text": [
      "{'EL': -635390.9295402009, 'ZPE': 0.25050851011, 'PV': 0.000158495294, 'TS': 1.03770079784, 'HEAT CAPACITY': 2.207902560284}\n"
     ]
    },
    {
     "data": {
      "text/plain": [
       "Structure Summary\n",
       "Lattice\n",
       "    abc : 7.323911590000001 7.32391159 9.56464305\n",
       " angles : 87.203615 92.79638499999999 150.717793\n",
       " volume : 250.61675657099957\n",
       "      A : 7.31519040398197 0.0 -0.3573098538053958\n",
       "      B : -6.378234105044253 3.5819185289115985 0.35730985380539676\n",
       "      C : 0.0 0.0 9.56464305\n",
       "PeriodicSite: As (5.2712, -1.3788, -4.4213) [0.3849, -0.3849, -0.4335]\n",
       "PeriodicSite: As (-5.2712, 1.3788, 4.4213) [-0.3849, 0.3849, 0.4335]\n",
       "PeriodicSite: As (-2.8074, 0.7343, -1.1738) [-0.2050, 0.2050, -0.1380]\n",
       "PeriodicSite: As (2.8074, -0.7343, 1.1738) [0.2050, -0.2050, 0.1380]\n",
       "PeriodicSite: Se (-0.4949, 0.1295, -2.7919) [-0.0361, 0.0361, -0.2946]\n",
       "PeriodicSite: Se (0.4949, -0.1295, 2.7919) [0.0361, -0.0361, 0.2946]\n",
       "PeriodicSite: Se (3.1922, -0.8350, -3.3299) [0.2331, -0.2331, -0.3307]\n",
       "PeriodicSite: Se (-3.1922, 0.8350, 3.3299) [-0.2331, 0.2331, 0.3307]\n",
       "PeriodicSite: Se (-4.9722, 1.3006, -0.0728) [-0.3631, 0.3631, -0.0347]\n",
       "PeriodicSite: Se (4.9722, -1.3006, 0.0728) [0.3631, -0.3631, 0.0347]"
      ]
     },
     "execution_count": 16,
     "metadata": {},
     "output_type": "execute_result"
    }
   ],
   "source": [
    "selected_name = \"As2Se3_12\"\n",
    "structure, spaceGroup, thermodynamicTerms, intRaman, dielectricTensor, vibContributionsDielectric, secondElectricSusceptibility, thirdElectricSusceptibility, bornChargeArray, bornChargeNormalModeBasis = load_structure_from_mongo(selected_name)\n",
    "print(thermodynamicTerms)\n",
    "structure"
   ]
  },
  {
   "cell_type": "code",
   "execution_count": null,
   "id": "658cf395",
   "metadata": {},
   "outputs": [],
   "source": []
  }
 ],
 "metadata": {
  "kernelspec": {
   "display_name": "Python 3 (ipykernel)",
   "language": "python",
   "name": "python3"
  },
  "language_info": {
   "codemirror_mode": {
    "name": "ipython",
    "version": 3
   },
   "file_extension": ".py",
   "mimetype": "text/x-python",
   "name": "python",
   "nbconvert_exporter": "python",
   "pygments_lexer": "ipython3",
   "version": "3.9.7"
  }
 },
 "nbformat": 4,
 "nbformat_minor": 5
}
