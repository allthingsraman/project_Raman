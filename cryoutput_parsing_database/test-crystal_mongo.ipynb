{
 "cells": [
  {
   "cell_type": "code",
   "execution_count": 1,
   "id": "37d4fef3",
   "metadata": {},
   "outputs": [],
   "source": [
    "import glob\n",
    "import pandas as pd\n",
    "import numpy as np\n",
    "import json\n",
    "import pickle\n",
    "from bson.binary import Binary\n",
    "from pymongo import MongoClient\n",
    "import certifi\n",
    "from ast import literal_eval\n",
    "\n",
    "from pymatgen.core import Lattice, Structure\n",
    "from crystal_out import crystalOut"
   ]
  },
  {
   "cell_type": "markdown",
   "id": "f049bfbf",
   "metadata": {},
   "source": [
    "# Uploading to mongodb in Orion"
   ]
  },
  {
   "cell_type": "code",
   "execution_count": null,
   "id": "determined-slovakia",
   "metadata": {},
   "outputs": [],
   "source": [
    "mc = MongoClient(host=\"orion.nus.edu.sg\",username=\"raman_ml\",password=\"ch4ndr4s3kh4r4\")\n",
    "db = mc[\"raman_ml\"]\n",
    "db"
   ]
  },
  {
   "cell_type": "code",
   "execution_count": null,
   "id": "professional-sociology",
   "metadata": {},
   "outputs": [],
   "source": [
    "one_crystal_outputs = glob.glob(\"./crystal17_output_files/calc-Sb2O5_15_icsd1422_tzvp_PBE0/Sb2O5_15.out\")\n",
    "print(\"Found\", len(one_crystal_outputs), \"structures to be loaded into mongodb...\")\n",
    "\n",
    "#print(\"Structures identified to have errors:\")\n",
    "#print(\"popped:\", all_crystal_outputs.pop(52))\n",
    "#print(\"popped:\", all_crystal_outputs.pop(52))\n",
    "\n",
    "structures = db.structures\n",
    "for s in one_crystal_outputs:\n",
    "    selected_structure = crystalOut(s)\n",
    "    name = s.split(\"calc-\")[-1].split(\"_tzvp\")[0]\n",
    "    print(\"Working on\", name)\n",
    "    bornChargeArrayList = []\n",
    "    for val in selected_structure.bornCharge.values():\n",
    "        bornChargeArrayList.append(val[\"Born Charge\"])\n",
    "    bornChargeArray = np.concatenate(bornChargeArrayList, dtype = \"float64\")\n",
    "\n",
    "    structure = {\"structure_name\": name,\n",
    "                \"structure\":json.dumps(selected_structure.structure.as_dict()), \n",
    "                \"spaceGroup\":selected_structure.parsed_data[\"space_group\"],\n",
    "                \"thermodynamicTerms\":json.dumps(selected_structure.thermodynamicTerms),\n",
    "                \"dielectricTensor\":Binary(pickle.dumps(selected_structure.dielectricTensor, protocol=2), subtype=128),\n",
    "                \"vibContributionsDielectric\":Binary(pickle.dumps(selected_structure.vibContributionsDielectric, protocol=2), subtype=128),\n",
    "                \"secondElectricSusceptibility\":Binary(pickle.dumps(selected_structure.secondElectricSusceptibility, protocol=2), subtype=128),\n",
    "                \"thirdElectricSusceptibility\":Binary(pickle.dumps(selected_structure.thirdElectricSusceptibility, protocol=2), subtype=128),\n",
    "                \"bornChargeArray\":Binary(pickle.dumps(bornChargeArray, protocol=2), subtype=128),\n",
    "                \"bornChargeNormalModeBasis\":Binary(pickle.dumps(selected_structure.bornChargeNormalModeBasis, protocol=2), subtype=128),\n",
    "                \"intRaman\":json.dumps(selected_structure.intRaman)}\n",
    "\n",
    "    structure_id = structures.insert_one(structure).inserted_id\n",
    "    print(\"Done\", structure_id)"
   ]
  },
  {
   "cell_type": "code",
   "execution_count": null,
   "id": "6204e131",
   "metadata": {},
   "outputs": [],
   "source": [
    "# list orion mongo\n",
    "from pymongo import MongoClient\n",
    "\n",
    "mc = MongoClient(host=\"orion.nus.edu.sg\",username=\"raman_ml\",password=\"ch4ndr4s3kh4r4\")\n",
    "db = mc[\"raman_ml\"]\n",
    "structures = db.structures\n",
    "cursor = structures.find({\"structure_name\": \"Sb2O5_15_icsd1422\"})\n",
    "for p in cursor:\n",
    "    print(p)"
   ]
  },
  {
   "cell_type": "markdown",
   "id": "4f81414c",
   "metadata": {},
   "source": [
    "# Reading"
   ]
  },
  {
   "cell_type": "code",
   "execution_count": null,
   "id": "20bd6378",
   "metadata": {},
   "outputs": [],
   "source": [
    "def load_structure_from_mongo(structure_name):    # To Pengfei: user input will be a reduced formula, e.g. As2Se3, and the code will give all phases with that formula\n",
    "    mc = MongoClient(host=\"orion.nus.edu.sg\",username=\"raman_ml\",password=\"ch4ndr4s3kh4r4\")\n",
    "    db = mc[\"raman_ml\"]\n",
    "    structures = db.structures\n",
    "    structure_name_out = structure_name + \".out\"\n",
    "    query = structures.find_one({\"structure_name\":structure_name_out})\n",
    "\n",
    "    structure = Structure.from_dict(json.loads(query[\"structure\"]))\n",
    "    spaceGroup = query[\"spaceGroup\"]\n",
    "    thermodynamicTerms = json.loads(query[\"thermodynamicTerms\"])\n",
    "    intRaman = json.loads(query[\"intRaman\"])\n",
    "\n",
    "    dielectricTensor = pickle.loads(query[\"dielectricTensor\"])\n",
    "    vibContributionsDielectric = pickle.loads(query[\"vibContributionsDielectric\"])\n",
    "    secondElectricSusceptibility = pickle.loads(query[\"secondElectricSusceptibility\"])\n",
    "    thirdElectricSusceptibility = pickle.loads(query[\"thirdElectricSusceptibility\"])\n",
    "    bornChargeArray = pickle.loads(query[\"bornChargeArray\"])\n",
    "    bornChargeNormalModeBasis = pickle.loads(query[\"bornChargeNormalModeBasis\"])\n",
    "\n",
    "    return structure, spaceGroup, thermodynamicTerms, intRaman, dielectricTensor, vibContributionsDielectric, secondElectricSusceptibility, thirdElectricSusceptibility, bornChargeArray, bornChargeNormalModeBasis\n",
    "\n"
   ]
  },
  {
   "cell_type": "code",
   "execution_count": null,
   "id": "0a3aec5d",
   "metadata": {},
   "outputs": [],
   "source": [
    "selected_name = \"As2Se3\"\n",
    "structure, spaceGroup, thermodynamicTerms, intRaman, dielectricTensor, vibContributionsDielectric, secondElectricSusceptibility, thirdElectricSusceptibility, bornChargeArray, bornChargeNormalModeBasis = load_structure_from_mongo(selected_name)\n",
    "print(thermodynamicTerms)\n",
    "structure"
   ]
  },
  {
   "attachments": {},
   "cell_type": "markdown",
   "id": "731a65ab",
   "metadata": {},
   "source": [
    "Plotting Raman spectra"
   ]
  },
  {
   "cell_type": "code",
   "execution_count": 2,
   "id": "8f8e40ce",
   "metadata": {},
   "outputs": [
    {
     "name": "stdout",
     "output_type": "stream",
     "text": [
      ">>>>>>> Optimized structure found.\n",
      ">>>>>>> CRYSTALLOGRAPHIC CELL found.\n"
     ]
    },
    {
     "data": {
      "image/png": "[encoded data removed]",
      "text/plain": [
       "<Figure size 432x288 with 1 Axes>"
      ]
     },
     "metadata": {
      "needs_background": "light"
     },
     "output_type": "display_data"
    }
   ],
   "source": [
    "from crystal_out import crystalOut\n",
    "import matplotlib.pyplot as plt\n",
    "import numpy as np\n",
    "\n",
    "def plot_spectra(output_file, sigma, gamma, wavenumber_range=(0,1000), resolution=1000):\n",
    "    frequencies, convoluted_intensities = crystalOut(output_file).get_convoluted_spectra(sigma,gamma,wavenumber_range,resolution)\n",
    "    plt.plot(frequencies, convoluted_intensities)\n",
    "    axes = plt.gca()\n",
    "    axes.set_xlabel(\"Wavenumber\")\n",
    "    axes.set_ylabel(\"Intensity (a.u.)\")\n",
    "\n",
    "\n",
    "plot_spectra(\"./crystal17_output_files/calc-Sb2O5_15_icsd1422_tzvp_PBE0/Sb2O5_15.out\", 10, 10)\n",
    "\n"
   ]
  }
 ],
 "metadata": {
  "kernelspec": {
   "display_name": "Python 3 (ipykernel)",
   "language": "python",
   "name": "python3"
  },
  "language_info": {
   "codemirror_mode": {
    "name": "ipython",
    "version": 3
   },
   "file_extension": ".py",
   "mimetype": "text/x-python",
   "name": "python",
   "nbconvert_exporter": "python",
   "pygments_lexer": "ipython3",
   "version": "3.9.1"
  }
 },
 "nbformat": 4,
 "nbformat_minor": 5
}
