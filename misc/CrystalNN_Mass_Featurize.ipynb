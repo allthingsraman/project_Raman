{
 "cells": [
  {
   "cell_type": "code",
   "execution_count": null,
   "id": "stupid-deadline",
   "metadata": {},
   "outputs": [],
   "source": [
    "import glob\n",
    "import pandas as pd \n",
    "from crystal_out import crystalOut\n",
    "from matminer.featurizers.structure import SiteStatsFingerprint"
   ]
  },
  {
   "cell_type": "code",
   "execution_count": null,
   "id": "complicated-ensemble",
   "metadata": {},
   "outputs": [],
   "source": [
    "all_crystal_outputs = glob.glob(\"../project_Raman/crystal17_output_files/*/*.out\")\n",
    "all_structures = {}\n",
    "for fi in all_crystal_outputs:\n",
    "    structure_name = fi.split(\"\\\\\")[-1].split(\".\")[0]\n",
    "    with open(fi, \"r\") as f:\n",
    "        data = crystalOut(fi)\n",
    "        all_structures[structure_name] = data.structure\n",
    "\n",
    "print(\"Number of structures processed:\", len(all_structures.keys()))\n",
    "print(all_structures.keys())"
   ]
  },
  {
   "cell_type": "code",
   "execution_count": null,
   "id": "proper-audience",
   "metadata": {},
   "outputs": [],
   "source": [
    "structure_name = list(all_structures.keys())[0]\n",
    "print(structure_name)\n",
    "current_structure = all_structures[structure_name]\n",
    "current_structure"
   ]
  },
  {
   "cell_type": "code",
   "execution_count": null,
   "id": "israeli-louis",
   "metadata": {},
   "outputs": [],
   "source": [
    "current_structure"
   ]
  },
  {
   "cell_type": "code",
   "execution_count": null,
   "id": "national-custom",
   "metadata": {
    "scrolled": true
   },
   "outputs": [],
   "source": [
    "full_cnnf = SiteStatsFingerprint.from_preset(\"CrystalNNFingerprint_ops\")\n",
    "all_structure_names_list = list(all_structures.keys())\n",
    "featurized_data = {\"structure\": []}\n",
    "for i in range(122):\n",
    "    featurized_data[full_cnnf.feature_labels()[i]] = []\n",
    "for structure_name in all_structure_names_list:\n",
    "    print(\"Structure:\", structure_name)\n",
    "    current_structure = all_structures[structure_name]\n",
    "    \n",
    "    # Computes statistics of properties across all sites in a structure.\n",
    "    try:\n",
    "        current_cnnf_features = full_cnnf.featurize(current_structure)\n",
    "        assert len(current_cnnf_features) == 122 # must be 122 length feature \n",
    "        featurized_data[\"structure\"].append(structure_name)\n",
    "        for i in range(122):\n",
    "            featurized_data[full_cnnf.feature_labels()[i]].append(current_cnnf_features[i])\n",
    "    except ValueError as e:\n",
    "        print(\">>>>\", e)\n"
   ]
  },
  {
   "cell_type": "code",
   "execution_count": null,
   "id": "printable-coaching",
   "metadata": {},
   "outputs": [],
   "source": [
    "df = pd.DataFrame(featurized_data)\n",
    "df.head()"
   ]
  },
  {
   "cell_type": "code",
   "execution_count": null,
   "id": "certain-specification",
   "metadata": {},
   "outputs": [],
   "source": [
    "df.describe()"
   ]
  },
  {
   "cell_type": "code",
   "execution_count": null,
   "id": "reflected-bulletin",
   "metadata": {},
   "outputs": [],
   "source": [
    "df.to_csv(\"CrystalNN_Stat_Features_0413.csv\")"
   ]
  }
 ],
 "metadata": {
  "kernelspec": {
   "display_name": "Python 3 (ipykernel)",
   "language": "python",
   "name": "python3"
  },
  "language_info": {
   "codemirror_mode": {
    "name": "ipython",
    "version": 3
   },
   "file_extension": ".py",
   "mimetype": "text/x-python",
   "name": "python",
   "nbconvert_exporter": "python",
   "pygments_lexer": "ipython3",
   "version": "3.9.7"
  }
 },
 "nbformat": 4,
 "nbformat_minor": 5
}
